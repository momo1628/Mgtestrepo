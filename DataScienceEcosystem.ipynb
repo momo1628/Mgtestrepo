{
  "metadata": {
    "kernelspec": {
      "name": "python",
      "display_name": "Python (Pyodide)",
      "language": "python"
    },
    "language_info": {
      "codemirror_mode": {
        "name": "python",
        "version": 3
      },
      "file_extension": ".py",
      "mimetype": "text/x-python",
      "name": "python",
      "nbconvert_exporter": "python",
      "pygments_lexer": "ipython3",
      "version": "3.8"
    }
  },
  "nbformat_minor": 5,
  "nbformat": 4,
  "cells": [
    {
      "id": "8a37ef29-b682-4588-930a-1bfff212949c",
      "cell_type": "markdown",
      "source": "# Data Science Tools and Ecosystem",
      "metadata": {}
    },
    {
      "id": "8f595dfc-3418-4f3b-ad85-a393df03129e",
      "cell_type": "markdown",
      "source": "## In this notebook, Data Science Tools and Ecosystem are summarized",
      "metadata": {}
    },
    {
      "id": "cecac4e2-9efb-4c3f-9cb4-457d3ce1fd03",
      "cell_type": "markdown",
      "source": "### **Objectives:**\n* Create a Jupyter Notebook with markdown and code cells\n* List examples of languages, libraries and tools used in Data Science\n* Share your Jupyter Notebook publicly on GitHub\n* Evaluate notebooks submitted by your peers using the provided rubric\n* Demonstrate proficiency in Data Science toolkit knowledge\n",
      "metadata": {}
    },
    {
      "id": "baca23bc-4937-449e-8f1e-1a72536479a0",
      "cell_type": "markdown",
      "source": "## Some of the popular languages that Data Scientists use are:",
      "metadata": {}
    },
    {
      "id": "0e20d1cd-805f-4d74-a98c-83e6fb597c83",
      "cell_type": "markdown",
      "source": "1. Python\n2. R\n3. SQL",
      "metadata": {}
    },
    {
      "id": "1105699b-43c9-489e-bee8-ff5335a47aad",
      "cell_type": "markdown",
      "source": "## Some of the commonly used libraries used by Data Scientists include",
      "metadata": {}
    },
    {
      "id": "ea8091ed-c973-4a01-88c2-a564c4620ede",
      "cell_type": "markdown",
      "source": "1. NumPy\n2. Pandas\n3. MatplotLib",
      "metadata": {}
    },
    {
      "id": "3fb85e71-4c85-4e8d-b8d4-3ef1ad7449d9",
      "cell_type": "markdown",
      "source": "|Data Science Tools|\n|------|\n|Jupyter Notebook|\n|RStudio|\n|PyCharm|\n|Visual Studio|",
      "metadata": {}
    },
    {
      "id": "9c9becd8-6f25-4915-881e-686471e26c9a",
      "cell_type": "markdown",
      "source": "### Below are a few examples of evaluating arithmetic expressions in Python",
      "metadata": {}
    },
    {
      "id": "83c7fab4-40f0-4b99-a6da-1ae67016af75",
      "cell_type": "code",
      "source": "#This a simple arithmetic expression to mutiply then add integers\nz=(3*4)+5\nprint (z)",
      "metadata": {
        "trusted": true
      },
      "outputs": [
        {
          "name": "stdout",
          "output_type": "stream",
          "text": "17\n"
        }
      ],
      "execution_count": 21
    },
    {
      "id": "42f68365-d890-441a-b7c7-588b1326dd8f",
      "cell_type": "code",
      "source": "#This will convert 200 minutes to hours by diving by 60\nH=200/60\nprint(H)",
      "metadata": {
        "trusted": true
      },
      "outputs": [
        {
          "name": "stdout",
          "output_type": "stream",
          "text": "3.3333333333333335\n"
        }
      ],
      "execution_count": 22
    },
    {
      "id": "991bc3bc-0289-47be-9ee7-55ef330ab72b",
      "cell_type": "markdown",
      "source": "## Author:\n### Mauricio Gallardo",
      "metadata": {}
    },
    {
      "id": "23f13443-d56e-46e7-b8dd-28cfd360159e",
      "cell_type": "code",
      "source": "#GitHub Link: https://github.com/momo1628/Mgtestrepo/tree/main\n",
      "metadata": {
        "trusted": true
      },
      "outputs": [],
      "execution_count": null
    }
  ]
}